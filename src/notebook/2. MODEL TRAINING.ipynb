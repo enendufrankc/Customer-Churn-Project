{
 "cells": [
  {
   "attachments": {},
   "cell_type": "markdown",
   "id": "92e48866",
   "metadata": {},
   "source": [
    "## Model Training"
   ]
  },
  {
   "cell_type": "markdown",
   "id": "25791a74",
   "metadata": {},
   "source": [
    "#### 1.1 Import Data and Required Packages\n",
    "##### Importing Pandas, Numpy, Matplotlib, Seaborn and Warings Library."
   ]
  },
  {
   "cell_type": "code",
   "execution_count": 33,
   "id": "b080dfb2",
   "metadata": {},
   "outputs": [],
   "source": [
    "import pandas as pd\n",
    "from matplotlib import pyplot as plt\n",
    "import numpy as np\n",
    "import seaborn as sns\n",
    "import statsmodels\n",
    "from sklearn.model_selection import train_test_split\n",
    "from sklearn.ensemble import RandomForestClassifier\n",
    "from sklearn.ensemble import ExtraTreesClassifier\n",
    "from sklearn.linear_model import LogisticRegression\n",
    "from sklearn.metrics import accuracy_score, confusion_matrix, classification_report\n",
    "from sklearn.metrics import r2_score, mean_absolute_error, mean_squared_error\n",
    "\n",
    "%matplotlib inline\n",
    "import pickle\n",
    "from xgboost import XGBClassifier"
   ]
  },
  {
   "cell_type": "code",
   "execution_count": 53,
   "id": "b95bcd25",
   "metadata": {},
   "outputs": [],
   "source": [
    "from sklearn.linear_model import LogisticRegression\n",
    "from sklearn.neighbors import KNeighborsClassifier\n",
    "from sklearn.tree import DecisionTreeClassifier\n",
    "from sklearn.ensemble import RandomForestClassifier, AdaBoostClassifier\n",
    "from xgboost import XGBClassifier\n",
    "from catboost import CatBoostClassifier\n",
    "from sklearn.metrics import accuracy_score, f1_score, precision_score, recall_score"
   ]
  },
  {
   "cell_type": "markdown",
   "id": "e45079ad",
   "metadata": {},
   "source": [
    "#### Import the CSV Data as Pandas DataFrame"
   ]
  },
  {
   "cell_type": "code",
   "execution_count": 34,
   "id": "e11c6255",
   "metadata": {},
   "outputs": [],
   "source": [
    "df = pd.read_csv('data/data2.csv')"
   ]
  },
  {
   "cell_type": "markdown",
   "id": "20634923",
   "metadata": {},
   "source": [
    "#### Show Top 5 Records"
   ]
  },
  {
   "cell_type": "code",
   "execution_count": 35,
   "id": "e7e412a2",
   "metadata": {},
   "outputs": [
    {
     "data": {
      "text/html": [
       "<div>\n",
       "<style scoped>\n",
       "    .dataframe tbody tr th:only-of-type {\n",
       "        vertical-align: middle;\n",
       "    }\n",
       "\n",
       "    .dataframe tbody tr th {\n",
       "        vertical-align: top;\n",
       "    }\n",
       "\n",
       "    .dataframe thead th {\n",
       "        text-align: right;\n",
       "    }\n",
       "</style>\n",
       "<table border=\"1\" class=\"dataframe\">\n",
       "  <thead>\n",
       "    <tr style=\"text-align: right;\">\n",
       "      <th></th>\n",
       "      <th>cust_id</th>\n",
       "      <th>income</th>\n",
       "      <th>debt_with_other_lenders</th>\n",
       "      <th>credit_score</th>\n",
       "      <th>has_previous_defaults_other_lenders</th>\n",
       "      <th>num_remittances_prev_12_mth</th>\n",
       "      <th>remittance_amt_prev_12_mth</th>\n",
       "      <th>main_remittance_corridor</th>\n",
       "      <th>opened_campaign_1</th>\n",
       "      <th>opened_campaign_2</th>\n",
       "      <th>opened_campaign_3</th>\n",
       "      <th>opened_campaign_4</th>\n",
       "      <th>tenure_years</th>\n",
       "      <th>churned</th>\n",
       "    </tr>\n",
       "  </thead>\n",
       "  <tbody>\n",
       "    <tr>\n",
       "      <th>0</th>\n",
       "      <td>1</td>\n",
       "      <td>63863.135880</td>\n",
       "      <td>87983.134390</td>\n",
       "      <td>20.0</td>\n",
       "      <td>0</td>\n",
       "      <td>22</td>\n",
       "      <td>23377.338230</td>\n",
       "      <td>AE_IN</td>\n",
       "      <td>0</td>\n",
       "      <td>0</td>\n",
       "      <td>0</td>\n",
       "      <td>0</td>\n",
       "      <td>2.065258</td>\n",
       "      <td>0</td>\n",
       "    </tr>\n",
       "    <tr>\n",
       "      <th>1</th>\n",
       "      <td>2</td>\n",
       "      <td>51537.479640</td>\n",
       "      <td>63655.109150</td>\n",
       "      <td>17.0</td>\n",
       "      <td>0</td>\n",
       "      <td>20</td>\n",
       "      <td>8353.525522</td>\n",
       "      <td>AE_PK</td>\n",
       "      <td>0</td>\n",
       "      <td>0</td>\n",
       "      <td>0</td>\n",
       "      <td>0</td>\n",
       "      <td>2.761676</td>\n",
       "      <td>0</td>\n",
       "    </tr>\n",
       "    <tr>\n",
       "      <th>2</th>\n",
       "      <td>3</td>\n",
       "      <td>3298.248451</td>\n",
       "      <td>4776.336091</td>\n",
       "      <td>2.0</td>\n",
       "      <td>0</td>\n",
       "      <td>26</td>\n",
       "      <td>1213.782465</td>\n",
       "      <td>AE_PK</td>\n",
       "      <td>0</td>\n",
       "      <td>0</td>\n",
       "      <td>0</td>\n",
       "      <td>0</td>\n",
       "      <td>0.297064</td>\n",
       "      <td>1</td>\n",
       "    </tr>\n",
       "    <tr>\n",
       "      <th>3</th>\n",
       "      <td>4</td>\n",
       "      <td>14402.605700</td>\n",
       "      <td>13925.390670</td>\n",
       "      <td>5.0</td>\n",
       "      <td>0</td>\n",
       "      <td>18</td>\n",
       "      <td>6202.880445</td>\n",
       "      <td>AE_IN</td>\n",
       "      <td>0</td>\n",
       "      <td>0</td>\n",
       "      <td>0</td>\n",
       "      <td>0</td>\n",
       "      <td>2.623058</td>\n",
       "      <td>0</td>\n",
       "    </tr>\n",
       "    <tr>\n",
       "      <th>4</th>\n",
       "      <td>5</td>\n",
       "      <td>8635.683507</td>\n",
       "      <td>10143.513660</td>\n",
       "      <td>3.0</td>\n",
       "      <td>0</td>\n",
       "      <td>21</td>\n",
       "      <td>6175.393029</td>\n",
       "      <td>AE_PK</td>\n",
       "      <td>0</td>\n",
       "      <td>0</td>\n",
       "      <td>0</td>\n",
       "      <td>0</td>\n",
       "      <td>0.160443</td>\n",
       "      <td>0</td>\n",
       "    </tr>\n",
       "  </tbody>\n",
       "</table>\n",
       "</div>"
      ],
      "text/plain": [
       "   cust_id        income  debt_with_other_lenders  credit_score  \\\n",
       "0        1  63863.135880             87983.134390          20.0   \n",
       "1        2  51537.479640             63655.109150          17.0   \n",
       "2        3   3298.248451              4776.336091           2.0   \n",
       "3        4  14402.605700             13925.390670           5.0   \n",
       "4        5   8635.683507             10143.513660           3.0   \n",
       "\n",
       "   has_previous_defaults_other_lenders  num_remittances_prev_12_mth  \\\n",
       "0                                    0                           22   \n",
       "1                                    0                           20   \n",
       "2                                    0                           26   \n",
       "3                                    0                           18   \n",
       "4                                    0                           21   \n",
       "\n",
       "   remittance_amt_prev_12_mth main_remittance_corridor  opened_campaign_1  \\\n",
       "0                23377.338230                    AE_IN                  0   \n",
       "1                 8353.525522                    AE_PK                  0   \n",
       "2                 1213.782465                    AE_PK                  0   \n",
       "3                 6202.880445                    AE_IN                  0   \n",
       "4                 6175.393029                    AE_PK                  0   \n",
       "\n",
       "   opened_campaign_2  opened_campaign_3  opened_campaign_4  tenure_years  \\\n",
       "0                  0                  0                  0      2.065258   \n",
       "1                  0                  0                  0      2.761676   \n",
       "2                  0                  0                  0      0.297064   \n",
       "3                  0                  0                  0      2.623058   \n",
       "4                  0                  0                  0      0.160443   \n",
       "\n",
       "   churned  \n",
       "0        0  \n",
       "1        0  \n",
       "2        1  \n",
       "3        0  \n",
       "4        0  "
      ]
     },
     "execution_count": 35,
     "metadata": {},
     "output_type": "execute_result"
    }
   ],
   "source": [
    "df.head()"
   ]
  },
  {
   "cell_type": "markdown",
   "id": "fbd32281",
   "metadata": {},
   "source": [
    "#### Preparing X and Y variables"
   ]
  },
  {
   "cell_type": "code",
   "execution_count": 36,
   "id": "56d72fde",
   "metadata": {},
   "outputs": [],
   "source": [
    "X = df.drop([\"churned\", 'cust_id'], axis = 1)\n"
   ]
  },
  {
   "cell_type": "code",
   "execution_count": 37,
   "id": "cd613177",
   "metadata": {},
   "outputs": [
    {
     "data": {
      "text/html": [
       "<div>\n",
       "<style scoped>\n",
       "    .dataframe tbody tr th:only-of-type {\n",
       "        vertical-align: middle;\n",
       "    }\n",
       "\n",
       "    .dataframe tbody tr th {\n",
       "        vertical-align: top;\n",
       "    }\n",
       "\n",
       "    .dataframe thead th {\n",
       "        text-align: right;\n",
       "    }\n",
       "</style>\n",
       "<table border=\"1\" class=\"dataframe\">\n",
       "  <thead>\n",
       "    <tr style=\"text-align: right;\">\n",
       "      <th></th>\n",
       "      <th>income</th>\n",
       "      <th>debt_with_other_lenders</th>\n",
       "      <th>credit_score</th>\n",
       "      <th>has_previous_defaults_other_lenders</th>\n",
       "      <th>num_remittances_prev_12_mth</th>\n",
       "      <th>remittance_amt_prev_12_mth</th>\n",
       "      <th>main_remittance_corridor</th>\n",
       "      <th>opened_campaign_1</th>\n",
       "      <th>opened_campaign_2</th>\n",
       "      <th>opened_campaign_3</th>\n",
       "      <th>opened_campaign_4</th>\n",
       "      <th>tenure_years</th>\n",
       "    </tr>\n",
       "  </thead>\n",
       "  <tbody>\n",
       "    <tr>\n",
       "      <th>0</th>\n",
       "      <td>63863.135880</td>\n",
       "      <td>87983.134390</td>\n",
       "      <td>20.0</td>\n",
       "      <td>0</td>\n",
       "      <td>22</td>\n",
       "      <td>23377.338230</td>\n",
       "      <td>AE_IN</td>\n",
       "      <td>0</td>\n",
       "      <td>0</td>\n",
       "      <td>0</td>\n",
       "      <td>0</td>\n",
       "      <td>2.065258</td>\n",
       "    </tr>\n",
       "    <tr>\n",
       "      <th>1</th>\n",
       "      <td>51537.479640</td>\n",
       "      <td>63655.109150</td>\n",
       "      <td>17.0</td>\n",
       "      <td>0</td>\n",
       "      <td>20</td>\n",
       "      <td>8353.525522</td>\n",
       "      <td>AE_PK</td>\n",
       "      <td>0</td>\n",
       "      <td>0</td>\n",
       "      <td>0</td>\n",
       "      <td>0</td>\n",
       "      <td>2.761676</td>\n",
       "    </tr>\n",
       "    <tr>\n",
       "      <th>2</th>\n",
       "      <td>3298.248451</td>\n",
       "      <td>4776.336091</td>\n",
       "      <td>2.0</td>\n",
       "      <td>0</td>\n",
       "      <td>26</td>\n",
       "      <td>1213.782465</td>\n",
       "      <td>AE_PK</td>\n",
       "      <td>0</td>\n",
       "      <td>0</td>\n",
       "      <td>0</td>\n",
       "      <td>0</td>\n",
       "      <td>0.297064</td>\n",
       "    </tr>\n",
       "    <tr>\n",
       "      <th>3</th>\n",
       "      <td>14402.605700</td>\n",
       "      <td>13925.390670</td>\n",
       "      <td>5.0</td>\n",
       "      <td>0</td>\n",
       "      <td>18</td>\n",
       "      <td>6202.880445</td>\n",
       "      <td>AE_IN</td>\n",
       "      <td>0</td>\n",
       "      <td>0</td>\n",
       "      <td>0</td>\n",
       "      <td>0</td>\n",
       "      <td>2.623058</td>\n",
       "    </tr>\n",
       "    <tr>\n",
       "      <th>4</th>\n",
       "      <td>8635.683507</td>\n",
       "      <td>10143.513660</td>\n",
       "      <td>3.0</td>\n",
       "      <td>0</td>\n",
       "      <td>21</td>\n",
       "      <td>6175.393029</td>\n",
       "      <td>AE_PK</td>\n",
       "      <td>0</td>\n",
       "      <td>0</td>\n",
       "      <td>0</td>\n",
       "      <td>0</td>\n",
       "      <td>0.160443</td>\n",
       "    </tr>\n",
       "  </tbody>\n",
       "</table>\n",
       "</div>"
      ],
      "text/plain": [
       "         income  debt_with_other_lenders  credit_score  \\\n",
       "0  63863.135880             87983.134390          20.0   \n",
       "1  51537.479640             63655.109150          17.0   \n",
       "2   3298.248451              4776.336091           2.0   \n",
       "3  14402.605700             13925.390670           5.0   \n",
       "4   8635.683507             10143.513660           3.0   \n",
       "\n",
       "   has_previous_defaults_other_lenders  num_remittances_prev_12_mth  \\\n",
       "0                                    0                           22   \n",
       "1                                    0                           20   \n",
       "2                                    0                           26   \n",
       "3                                    0                           18   \n",
       "4                                    0                           21   \n",
       "\n",
       "   remittance_amt_prev_12_mth main_remittance_corridor  opened_campaign_1  \\\n",
       "0                23377.338230                    AE_IN                  0   \n",
       "1                 8353.525522                    AE_PK                  0   \n",
       "2                 1213.782465                    AE_PK                  0   \n",
       "3                 6202.880445                    AE_IN                  0   \n",
       "4                 6175.393029                    AE_PK                  0   \n",
       "\n",
       "   opened_campaign_2  opened_campaign_3  opened_campaign_4  tenure_years  \n",
       "0                  0                  0                  0      2.065258  \n",
       "1                  0                  0                  0      2.761676  \n",
       "2                  0                  0                  0      0.297064  \n",
       "3                  0                  0                  0      2.623058  \n",
       "4                  0                  0                  0      0.160443  "
      ]
     },
     "execution_count": 37,
     "metadata": {},
     "output_type": "execute_result"
    }
   ],
   "source": [
    "X.head()"
   ]
  },
  {
   "cell_type": "code",
   "execution_count": 38,
   "id": "f237ea14",
   "metadata": {},
   "outputs": [
    {
     "name": "stdout",
     "output_type": "stream",
     "text": [
      "Categories in 'churned' variable:      [0 1]\n",
      "Categories in 'main_remittance_corridor' variable:   ['AE_IN' 'AE_PK' 'AE_PH']\n"
     ]
    }
   ],
   "source": [
    "print(\"Categories in 'churned' variable:     \",end=\" \" )\n",
    "print(df['churned'].unique())\n",
    "\n",
    "print(\"Categories in 'main_remittance_corridor' variable:  \",end=\" \")\n",
    "print(df['main_remittance_corridor'].unique())"
   ]
  },
  {
   "cell_type": "code",
   "execution_count": 39,
   "id": "924b7f9d",
   "metadata": {},
   "outputs": [],
   "source": [
    "y = df['churned']"
   ]
  },
  {
   "cell_type": "code",
   "execution_count": 40,
   "id": "ffc69816",
   "metadata": {},
   "outputs": [
    {
     "data": {
      "text/plain": [
       "0       0\n",
       "1       0\n",
       "2       1\n",
       "3       0\n",
       "4       0\n",
       "       ..\n",
       "6633    1\n",
       "6634    0\n",
       "6635    0\n",
       "6636    0\n",
       "6637    1\n",
       "Name: churned, Length: 6638, dtype: int64"
      ]
     },
     "execution_count": 40,
     "metadata": {},
     "output_type": "execute_result"
    }
   ],
   "source": [
    "y"
   ]
  },
  {
   "cell_type": "code",
   "execution_count": 41,
   "id": "1e290fe3",
   "metadata": {},
   "outputs": [],
   "source": [
    "# Create Column Transformer with 3 types of transformers\n",
    "num_features = X.select_dtypes(exclude=\"object\").columns\n",
    "cat_features = X.select_dtypes(include=\"object\").columns\n",
    "\n",
    "from sklearn.preprocessing import OneHotEncoder, StandardScaler\n",
    "from sklearn.compose import ColumnTransformer\n",
    "\n",
    "numeric_transformer = StandardScaler()\n",
    "oh_transformer = OneHotEncoder()\n",
    "\n",
    "preprocessor = ColumnTransformer(\n",
    "    [\n",
    "        (\"OneHotEncoder\", oh_transformer, cat_features),\n",
    "         (\"StandardScaler\", numeric_transformer, num_features),        \n",
    "    ]\n",
    ")"
   ]
  },
  {
   "cell_type": "code",
   "execution_count": 42,
   "id": "9c68f99a",
   "metadata": {},
   "outputs": [],
   "source": [
    "X = preprocessor.fit_transform(X)"
   ]
  },
  {
   "cell_type": "code",
   "execution_count": 43,
   "id": "72459f1d",
   "metadata": {},
   "outputs": [
    {
     "data": {
      "text/plain": [
       "(6638, 14)"
      ]
     },
     "execution_count": 43,
     "metadata": {},
     "output_type": "execute_result"
    }
   ],
   "source": [
    "X.shape"
   ]
  },
  {
   "cell_type": "code",
   "execution_count": 44,
   "id": "ed5c4e99",
   "metadata": {},
   "outputs": [
    {
     "data": {
      "text/plain": [
       "((5310, 14), (1328, 14))"
      ]
     },
     "execution_count": 44,
     "metadata": {},
     "output_type": "execute_result"
    }
   ],
   "source": [
    "# separate dataset into train and test\n",
    "from sklearn.model_selection import train_test_split\n",
    "X_train, X_test, y_train, y_test = train_test_split(X,y,test_size=0.2,random_state=42)\n",
    "X_train.shape, X_test.shape"
   ]
  },
  {
   "cell_type": "markdown",
   "id": "4cd80317",
   "metadata": {},
   "source": [
    "#### Create an Evaluate Function to give all metrics after model Training"
   ]
  },
  {
   "cell_type": "code",
   "execution_count": 46,
   "id": "8c247bd0",
   "metadata": {},
   "outputs": [],
   "source": [
    "def evaluate_model(true, predicted):\n",
    "    mae = mean_absolute_error(true, predicted)\n",
    "    mse = mean_squared_error(true, predicted)\n",
    "    rmse = np.sqrt(mean_squared_error(true, predicted))\n",
    "    r2_square = r2_score(true, predicted)\n",
    "    return mae, rmse, r2_square"
   ]
  },
  {
   "cell_type": "code",
   "execution_count": 54,
   "id": "79ccb8e7",
   "metadata": {
    "scrolled": false
   },
   "outputs": [
    {
     "name": "stdout",
     "output_type": "stream",
     "text": [
      "Logistic Regression\n",
      "Model performance for Training set\n",
      "- Accuracy: 0.9861\n",
      "- F1 Score: 0.9859\n",
      "- Precision: 0.9858\n",
      "- Recall: 0.9861\n",
      "----------------------------------\n",
      "Model performance for Test set\n",
      "- Accuracy: 0.9797\n",
      "- F1 Score: 0.9787\n",
      "- Precision: 0.9794\n",
      "- Recall: 0.9797\n",
      "===================================\n",
      "\n",
      "\n",
      "K-Neighbors Classifier\n",
      "Model performance for Training set\n",
      "- Accuracy: 0.9838\n",
      "- F1 Score: 0.9831\n",
      "- Precision: 0.9835\n",
      "- Recall: 0.9838\n",
      "----------------------------------\n",
      "Model performance for Test set\n",
      "- Accuracy: 0.9691\n",
      "- F1 Score: 0.9676\n",
      "- Precision: 0.9677\n",
      "- Recall: 0.9691\n",
      "===================================\n",
      "\n",
      "\n",
      "Decision Tree\n",
      "Model performance for Training set\n",
      "- Accuracy: 1.0000\n",
      "- F1 Score: 1.0000\n",
      "- Precision: 1.0000\n",
      "- Recall: 1.0000\n",
      "----------------------------------\n",
      "Model performance for Test set\n",
      "- Accuracy: 0.9834\n",
      "- F1 Score: 0.9831\n",
      "- Precision: 0.9831\n",
      "- Recall: 0.9834\n",
      "===================================\n",
      "\n",
      "\n",
      "Random Forest\n",
      "Model performance for Training set\n",
      "- Accuracy: 1.0000\n",
      "- F1 Score: 1.0000\n",
      "- Precision: 1.0000\n",
      "- Recall: 1.0000\n",
      "----------------------------------\n",
      "Model performance for Test set\n",
      "- Accuracy: 0.9789\n",
      "- F1 Score: 0.9777\n",
      "- Precision: 0.9789\n",
      "- Recall: 0.9789\n",
      "===================================\n",
      "\n",
      "\n",
      "XGBClassifier\n",
      "Model performance for Training set\n",
      "- Accuracy: 1.0000\n",
      "- F1 Score: 1.0000\n",
      "- Precision: 1.0000\n",
      "- Recall: 1.0000\n",
      "----------------------------------\n",
      "Model performance for Test set\n",
      "- Accuracy: 0.9857\n",
      "- F1 Score: 0.9855\n",
      "- Precision: 0.9854\n",
      "- Recall: 0.9857\n",
      "===================================\n",
      "\n",
      "\n",
      "CatBoost Classifier\n",
      "Model performance for Training set\n",
      "- Accuracy: 1.0000\n",
      "- F1 Score: 1.0000\n",
      "- Precision: 1.0000\n",
      "- Recall: 1.0000\n",
      "----------------------------------\n",
      "Model performance for Test set\n",
      "- Accuracy: 0.9864\n",
      "- F1 Score: 0.9860\n",
      "- Precision: 0.9864\n",
      "- Recall: 0.9864\n",
      "===================================\n",
      "\n",
      "\n",
      "AdaBoost Classifier\n",
      "Model performance for Training set\n",
      "- Accuracy: 0.9849\n",
      "- F1 Score: 0.9848\n",
      "- Precision: 0.9847\n",
      "- Recall: 0.9849\n",
      "----------------------------------\n",
      "Model performance for Test set\n",
      "- Accuracy: 0.9804\n",
      "- F1 Score: 0.9800\n",
      "- Precision: 0.9799\n",
      "- Recall: 0.9804\n",
      "===================================\n",
      "\n",
      "\n"
     ]
    }
   ],
   "source": [
    "models = {\n",
    "    \"Logistic Regression\": LogisticRegression(),\n",
    "    \"K-Neighbors Classifier\": KNeighborsClassifier(),\n",
    "    \"Decision Tree\": DecisionTreeClassifier(),\n",
    "    \"Random Forest\": RandomForestClassifier(),\n",
    "    \"XGBClassifier\": XGBClassifier(),\n",
    "    \"CatBoost Classifier\": CatBoostClassifier(verbose=False),\n",
    "    \"AdaBoost Classifier\": AdaBoostClassifier()\n",
    "}\n",
    "\n",
    "def evaluate_model(y_true, y_pred):\n",
    "    accuracy = accuracy_score(y_true, y_pred)\n",
    "    f1 = f1_score(y_true, y_pred, average='weighted')\n",
    "    precision = precision_score(y_true, y_pred, average='weighted')\n",
    "    recall = recall_score(y_true, y_pred, average='weighted')\n",
    "    return accuracy, f1, precision, recall\n",
    "\n",
    "model_list = []\n",
    "accuracy_list = []\n",
    "\n",
    "for model_name, model in models.items():\n",
    "    model.fit(X_train, y_train) # Train model\n",
    "\n",
    "    # Make predictions\n",
    "    y_train_pred = model.predict(X_train)\n",
    "    y_test_pred = model.predict(X_test)\n",
    "    \n",
    "    # Evaluate Train and Test dataset\n",
    "    train_accuracy, train_f1, train_precision, train_recall = evaluate_model(y_train, y_train_pred)\n",
    "    test_accuracy, test_f1, test_precision, test_recall = evaluate_model(y_test, y_test_pred)\n",
    "    \n",
    "    print(model_name)\n",
    "    model_list.append(model_name)\n",
    "    \n",
    "    print('Model performance for Training set')\n",
    "    print(\"- Accuracy: {:.4f}\".format(train_accuracy))\n",
    "    print(\"- F1 Score: {:.4f}\".format(train_f1))\n",
    "    print(\"- Precision: {:.4f}\".format(train_precision))\n",
    "    print(\"- Recall: {:.4f}\".format(train_recall))\n",
    "\n",
    "    print('----------------------------------')\n",
    "    \n",
    "    print('Model performance for Test set')\n",
    "    print(\"- Accuracy: {:.4f}\".format(test_accuracy))\n",
    "    print(\"- F1 Score: {:.4f}\".format(test_f1))\n",
    "    print(\"- Precision: {:.4f}\".format(test_precision))\n",
    "    print(\"- Recall: {:.4f}\".format(test_recall))\n",
    "    accuracy_list.append(test_accuracy)\n",
    "    \n",
    "    print('='*35)\n",
    "    print('\\n')"
   ]
  },
  {
   "cell_type": "markdown",
   "id": "06480b5a",
   "metadata": {},
   "source": [
    "### Results"
   ]
  },
  {
   "cell_type": "code",
   "execution_count": 55,
   "id": "e0159e5f",
   "metadata": {},
   "outputs": [
    {
     "data": {
      "text/html": [
       "<div>\n",
       "<style scoped>\n",
       "    .dataframe tbody tr th:only-of-type {\n",
       "        vertical-align: middle;\n",
       "    }\n",
       "\n",
       "    .dataframe tbody tr th {\n",
       "        vertical-align: top;\n",
       "    }\n",
       "\n",
       "    .dataframe thead th {\n",
       "        text-align: right;\n",
       "    }\n",
       "</style>\n",
       "<table border=\"1\" class=\"dataframe\">\n",
       "  <thead>\n",
       "    <tr style=\"text-align: right;\">\n",
       "      <th></th>\n",
       "      <th>Model Name</th>\n",
       "      <th>Accuracy</th>\n",
       "    </tr>\n",
       "  </thead>\n",
       "  <tbody>\n",
       "    <tr>\n",
       "      <th>5</th>\n",
       "      <td>CatBoost Classifier</td>\n",
       "      <td>0.986446</td>\n",
       "    </tr>\n",
       "    <tr>\n",
       "      <th>4</th>\n",
       "      <td>XGBClassifier</td>\n",
       "      <td>0.985693</td>\n",
       "    </tr>\n",
       "    <tr>\n",
       "      <th>2</th>\n",
       "      <td>Decision Tree</td>\n",
       "      <td>0.983434</td>\n",
       "    </tr>\n",
       "    <tr>\n",
       "      <th>6</th>\n",
       "      <td>AdaBoost Classifier</td>\n",
       "      <td>0.980422</td>\n",
       "    </tr>\n",
       "    <tr>\n",
       "      <th>0</th>\n",
       "      <td>Logistic Regression</td>\n",
       "      <td>0.979669</td>\n",
       "    </tr>\n",
       "    <tr>\n",
       "      <th>3</th>\n",
       "      <td>Random Forest</td>\n",
       "      <td>0.978916</td>\n",
       "    </tr>\n",
       "    <tr>\n",
       "      <th>1</th>\n",
       "      <td>K-Neighbors Classifier</td>\n",
       "      <td>0.969127</td>\n",
       "    </tr>\n",
       "  </tbody>\n",
       "</table>\n",
       "</div>"
      ],
      "text/plain": [
       "               Model Name  Accuracy\n",
       "5     CatBoost Classifier  0.986446\n",
       "4           XGBClassifier  0.985693\n",
       "2           Decision Tree  0.983434\n",
       "6     AdaBoost Classifier  0.980422\n",
       "0     Logistic Regression  0.979669\n",
       "3           Random Forest  0.978916\n",
       "1  K-Neighbors Classifier  0.969127"
      ]
     },
     "execution_count": 55,
     "metadata": {},
     "output_type": "execute_result"
    }
   ],
   "source": [
    "pd.DataFrame(list(zip(model_list, accuracy_list)), columns=['Model Name', 'Accuracy']).sort_values(by=[\"Accuracy\"], ascending=False)"
   ]
  },
  {
   "cell_type": "markdown",
   "id": "357a7c1c",
   "metadata": {},
   "source": [
    "## Linear Regression"
   ]
  },
  {
   "cell_type": "code",
   "execution_count": 56,
   "id": "9a6ad559",
   "metadata": {},
   "outputs": [
    {
     "name": "stdout",
     "output_type": "stream",
     "text": [
      "Accuracy of the model is 98.64\n"
     ]
    }
   ],
   "source": [
    "# Initialize the CatBoost Classifier\n",
    "catboost_model = CatBoostClassifier(verbose=False)\n",
    "\n",
    "# Fit the model on the training data\n",
    "catboost_model.fit(X_train, y_train)\n",
    "\n",
    "# Predict on the test data\n",
    "y_pred = catboost_model.predict(X_test)\n",
    "\n",
    "# Calculate the accuracy of the model\n",
    "accuracy = accuracy_score(y_test, y_pred) * 100\n",
    "print(\"Accuracy of the model is %.2f\" % accuracy)"
   ]
  },
  {
   "cell_type": "markdown",
   "id": "1d31453e",
   "metadata": {},
   "source": [
    "## Plot y_pred and y_test"
   ]
  },
  {
   "cell_type": "code",
   "execution_count": 58,
   "id": "eb557b0a",
   "metadata": {},
   "outputs": [
    {
     "data": {
      "text/html": [
       "<div>\n",
       "<style scoped>\n",
       "    .dataframe tbody tr th:only-of-type {\n",
       "        vertical-align: middle;\n",
       "    }\n",
       "\n",
       "    .dataframe tbody tr th {\n",
       "        vertical-align: top;\n",
       "    }\n",
       "\n",
       "    .dataframe thead th {\n",
       "        text-align: right;\n",
       "    }\n",
       "</style>\n",
       "<table border=\"1\" class=\"dataframe\">\n",
       "  <thead>\n",
       "    <tr style=\"text-align: right;\">\n",
       "      <th></th>\n",
       "      <th>Actual Value</th>\n",
       "      <th>Predicted Value</th>\n",
       "    </tr>\n",
       "  </thead>\n",
       "  <tbody>\n",
       "    <tr>\n",
       "      <th>1652</th>\n",
       "      <td>0</td>\n",
       "      <td>0</td>\n",
       "    </tr>\n",
       "    <tr>\n",
       "      <th>5936</th>\n",
       "      <td>0</td>\n",
       "      <td>0</td>\n",
       "    </tr>\n",
       "    <tr>\n",
       "      <th>2986</th>\n",
       "      <td>0</td>\n",
       "      <td>0</td>\n",
       "    </tr>\n",
       "    <tr>\n",
       "      <th>1545</th>\n",
       "      <td>0</td>\n",
       "      <td>0</td>\n",
       "    </tr>\n",
       "    <tr>\n",
       "      <th>6289</th>\n",
       "      <td>0</td>\n",
       "      <td>0</td>\n",
       "    </tr>\n",
       "  </tbody>\n",
       "</table>\n",
       "</div>"
      ],
      "text/plain": [
       "      Actual Value  Predicted Value\n",
       "1652             0                0\n",
       "5936             0                0\n",
       "2986             0                0\n",
       "1545             0                0\n",
       "6289             0                0"
      ]
     },
     "execution_count": 58,
     "metadata": {},
     "output_type": "execute_result"
    }
   ],
   "source": [
    "results = pd.DataFrame({'Actual Value': y_test, 'Predicted Value': y_pred})\n",
    "results.head()"
   ]
  },
  {
   "cell_type": "code",
   "execution_count": 59,
   "id": "1e707ec3",
   "metadata": {},
   "outputs": [
    {
     "name": "stdout",
     "output_type": "stream",
     "text": [
      "              precision    recall  f1-score   support\n",
      "\n",
      "           0       0.99      1.00      0.99      1220\n",
      "           1       0.98      0.85      0.91       108\n",
      "\n",
      "    accuracy                           0.99      1328\n",
      "   macro avg       0.98      0.93      0.95      1328\n",
      "weighted avg       0.99      0.99      0.99      1328\n",
      "\n"
     ]
    }
   ],
   "source": [
    "print(classification_report(y_test,y_pred))"
   ]
  },
  {
   "cell_type": "markdown",
   "id": "79c2fe28",
   "metadata": {},
   "source": [
    "#### Difference between Actual and Predicted Values"
   ]
  },
  {
   "cell_type": "code",
   "execution_count": 60,
   "id": "7c9a8b48",
   "metadata": {},
   "outputs": [],
   "source": [
    "cm = confusion_matrix(y_test, y_pred)"
   ]
  },
  {
   "cell_type": "code",
   "execution_count": 61,
   "id": "3acf1fbc",
   "metadata": {},
   "outputs": [
    {
     "data": {
      "text/plain": [
       "Text(95.72222222222221, 0.5, 'Truth')"
      ]
     },
     "execution_count": 61,
     "metadata": {},
     "output_type": "execute_result"
    },
    {
     "data": {
      "image/png": "[encoded data removed]",
      "text/plain": [
       "<Figure size 1000x700 with 2 Axes>"
      ]
     },
     "metadata": {},
     "output_type": "display_data"
    }
   ],
   "source": [
    "import seaborn as sn\n",
    "plt.figure(figsize = (10,7))\n",
    "sn.heatmap(cm, annot=True)\n",
    "plt.xlabel('Predicted')\n",
    "plt.ylabel('Truth')"
   ]
  },
  {
   "cell_type": "code",
   "execution_count": null,
   "id": "429a8b34",
   "metadata": {},
   "outputs": [],
   "source": []
  }
 ],
 "metadata": {
  "kernelspec": {
   "display_name": "Python 3 (ipykernel)",
   "language": "python",
   "name": "python3"
  },
  "language_info": {
   "codemirror_mode": {
    "name": "ipython",
    "version": 3
   },
   "file_extension": ".py",
   "mimetype": "text/x-python",
   "name": "python",
   "nbconvert_exporter": "python",
   "pygments_lexer": "ipython3",
   "version": "3.11.5"
  }
 },
 "nbformat": 4,
 "nbformat_minor": 5
}
